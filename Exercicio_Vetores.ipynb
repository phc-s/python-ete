{
  "nbformat": 4,
  "nbformat_minor": 0,
  "metadata": {
    "colab": {
      "provenance": [],
      "authorship_tag": "ABX9TyNlsbgUvJ/I6qoDx1mCAOIh",
      "include_colab_link": true
    },
    "kernelspec": {
      "name": "python3",
      "display_name": "Python 3"
    },
    "language_info": {
      "name": "python"
    }
  },
  "cells": [
    {
      "cell_type": "markdown",
      "metadata": {
        "id": "view-in-github",
        "colab_type": "text"
      },
      "source": [
        "<a href=\"https://colab.research.google.com/github/phc-s/python-ete/blob/main/Exercicio_Vetores.ipynb\" target=\"_parent\"><img src=\"https://colab.research.google.com/assets/colab-badge.svg\" alt=\"Open In Colab\"/></a>"
      ]
    },
    {
      "cell_type": "code",
      "execution_count": 3,
      "metadata": {
        "colab": {
          "base_uri": "https://localhost:8080/"
        },
        "id": "bIGg95nf4kyS",
        "outputId": "96898477-ec1b-4a98-f9f3-e897dca3b814"
      },
      "outputs": [
        {
          "output_type": "stream",
          "name": "stdout",
          "text": [
            "[180, 65, 19]\n"
          ]
        }
      ],
      "source": [
        "#Exemplo de vetor abaixo: (1 - Altura, 2 - Peso, 3 - Idade)\n",
        "imc = [180, 65, 19]\n",
        "print(imc)"
      ]
    },
    {
      "cell_type": "code",
      "source": [
        "#Vetor de notas: (N1, N2, N3, N4)\n",
        "notas = [9,7,8,10]\n",
        "print(notas)"
      ],
      "metadata": {
        "colab": {
          "base_uri": "https://localhost:8080/"
        },
        "id": "XpuWJvlY63UC",
        "outputId": "4001a2e8-5652-4497-ff26-462185b86295"
      },
      "execution_count": 4,
      "outputs": [
        {
          "output_type": "stream",
          "name": "stdout",
          "text": [
            "[9, 7, 8, 10]\n"
          ]
        }
      ]
    },
    {
      "cell_type": "code",
      "source": [
        "#Em breve vai ser adicionado uma soma de vetores aqui."
      ],
      "metadata": {
        "id": "TX57Cb6z8Rvh"
      },
      "execution_count": null,
      "outputs": []
    }
  ]
}