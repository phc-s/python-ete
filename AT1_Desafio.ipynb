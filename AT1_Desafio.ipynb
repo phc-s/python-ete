{
  "nbformat": 4,
  "nbformat_minor": 0,
  "metadata": {
    "colab": {
      "provenance": [],
      "authorship_tag": "ABX9TyPvQdZsd8bmrqU+M0r0vOfp",
      "include_colab_link": true
    },
    "kernelspec": {
      "name": "python3",
      "display_name": "Python 3"
    },
    "language_info": {
      "name": "python"
    }
  },
  "cells": [
    {
      "cell_type": "markdown",
      "metadata": {
        "id": "view-in-github",
        "colab_type": "text"
      },
      "source": [
        "<a href=\"https://colab.research.google.com/github/phc-s/python-ete/blob/main/AT1_Desafio.ipynb\" target=\"_parent\"><img src=\"https://colab.research.google.com/assets/colab-badge.svg\" alt=\"Open In Colab\"/></a>"
      ]
    },
    {
      "cell_type": "code",
      "source": [
        "# Q1. Faça um CÓDIGO que mostre a mensagem \"Olá ETE CÍCERO DIAS!\" na tela.\n",
        "message = \"Olá ETE CÍCERO DIAS!\"\n",
        "print(message)"
      ],
      "metadata": {
        "colab": {
          "base_uri": "https://localhost:8080/"
        },
        "id": "fIigK0j982dE",
        "outputId": "03351b9f-be39-4f15-b6e2-831d6da41392"
      },
      "execution_count": null,
      "outputs": [
        {
          "output_type": "stream",
          "name": "stdout",
          "text": [
            "Olá ETE CÍCERO DIAS!\n"
          ]
        }
      ]
    },
    {
      "cell_type": "code",
      "source": [
        "# Q2. Faça um CÓDIGO que peça um número e então mostre a mensagem \"O número informado foi [número].\"\n",
        "number = input(\"Insira um número: \")\n",
        "print(f\"O número informado foi {number}.\")"
      ],
      "metadata": {
        "colab": {
          "base_uri": "https://localhost:8080/"
        },
        "id": "Xi-PFqmY9Cl5",
        "outputId": "dc85f437-769d-4b73-d527-5e11aa9df96c"
      },
      "execution_count": null,
      "outputs": [
        {
          "output_type": "stream",
          "name": "stdout",
          "text": [
            "Insira um número: 5\n",
            "O número informado foi 5.\n"
          ]
        }
      ]
    },
    {
      "cell_type": "code",
      "source": [
        "# Q3. Faça um CÓDIGO que peça dois números e imprima a soma.\n",
        "number1 = float(input(f\"Insira o primeiro número: \"))\n",
        "number2 = float(input(f\"Insira o segundo número: \"))\n",
        "sum = number1 + number2\n",
        "print(f\"A soma desses 2 números é igual a: {sum}.\")"
      ],
      "metadata": {
        "colab": {
          "base_uri": "https://localhost:8080/"
        },
        "id": "sVBx3wGn9JDm",
        "outputId": "6a4d334f-5b1f-4ee5-a4ea-d34066edc0fa"
      },
      "execution_count": 55,
      "outputs": [
        {
          "output_type": "stream",
          "name": "stdout",
          "text": [
            "Insira o primeiro número: 4\n",
            "Insira o segundo número: 2\n",
            "A soma desses 2 números é igual a: 6.0.\n"
          ]
        }
      ]
    },
    {
      "cell_type": "code",
      "source": [
        "# Q4. Faça um CÓDIGO que peça as 4 notas bimestrais e mostre a média final.\n",
        "n1 = float(input(\"Insira a primeira nota: \"))\n",
        "n2 = float(input(\"Insira a segunda nota: \"))\n",
        "n3 = float(input(\"Insira a terceira nota: \"))\n",
        "n4 = float(input(\"Insira a quarta nota: \"))\n",
        "grade = (n1 + n2 + n3 + n4) / 4\n",
        "print(f\"Sua média final é igual a: {grade}.\")"
      ],
      "metadata": {
        "colab": {
          "base_uri": "https://localhost:8080/"
        },
        "id": "viiK7j8D9NNs",
        "outputId": "a045eb51-9c0e-4b92-929e-416c81dc1ae9"
      },
      "execution_count": null,
      "outputs": [
        {
          "output_type": "stream",
          "name": "stdout",
          "text": [
            "Insira a primeira nota: 6\n",
            "Insira a segunda nota: 9\n",
            "Insira a terceira nota: 9\n",
            "Insira a quarta nota: 10\n",
            "Sua média final é igual a: 8.5.\n"
          ]
        }
      ]
    },
    {
      "cell_type": "code",
      "source": [
        "# Q5. Faça um CÓDIGO que converta metros para centímetros.\n",
        "meter = float(input(\"Insira um valor em metros: \"))\n",
        "centimeter = meter * 100\n",
        "print(f\"O valor em centímetros é igual a: {centimeter}cm.\")"
      ],
      "metadata": {
        "colab": {
          "base_uri": "https://localhost:8080/"
        },
        "id": "HMNPoOLM9U3_",
        "outputId": "819ac1c0-e7e8-4ddf-d54a-6b8e80a5758a"
      },
      "execution_count": null,
      "outputs": [
        {
          "output_type": "stream",
          "name": "stdout",
          "text": [
            "Insira um valor em metros: 5\n",
            "O valor em centímetros é igual a: 500.0cm.\n"
          ]
        }
      ]
    },
    {
      "cell_type": "code",
      "source": [
        "# Q6. Faça um CÓDIGO que peça o raio de um círculo, calcule e mostre sua área.\n",
        "# Usei centímetros com exemplo, e usei a função round() para somente essas 2 casas.\n",
        "import math\n",
        "\n",
        "radius = float(input(\"Insira o valor do raio: \"))\n",
        "area = math.pi * radius ** 2\n",
        "print(f\"A área do circulo é igual a {round(area,2)}cm².\")"
      ],
      "metadata": {
        "colab": {
          "base_uri": "https://localhost:8080/"
        },
        "id": "frVfk_ss9W5A",
        "outputId": "e0bcfe32-4c49-4ade-a59d-2e21b1cbba56"
      },
      "execution_count": null,
      "outputs": [
        {
          "output_type": "stream",
          "name": "stdout",
          "text": [
            "Insira o valor do raio: 3\n",
            "A área do circulo é igual a 28.27cm².\n"
          ]
        }
      ]
    },
    {
      "cell_type": "code",
      "source": [
        "# Q7. Faça um CÓDIGO que calcule a área de um quadrado, em seguida mostre o dobro desta área\n",
        "side = float(input(\"Insira o lado de um quadrado: \"))\n",
        "area = side ** 2\n",
        "double_area = area * 2\n",
        "print(f\"A área do quadrado é igual a {area}m².\")\n",
        "print(f\"O dobro da área do quadrado é igual a {double_area}m².\")"
      ],
      "metadata": {
        "colab": {
          "base_uri": "https://localhost:8080/"
        },
        "id": "DVuAZ6KP9xuE",
        "outputId": "ce93e92b-17fb-47fe-f502-8a7fbd9cf721"
      },
      "execution_count": null,
      "outputs": [
        {
          "output_type": "stream",
          "name": "stdout",
          "text": [
            "Insira o lado de um quadrado: 4\n",
            "A área do quadrado é igual a 16.0m².\n",
            "O dobro da área do quadrado é igual a 32.0m².\n"
          ]
        }
      ]
    },
    {
      "cell_type": "code",
      "source": [
        "# Q8. Faça um CÓDIGO que pergunte quanto você ganha por hora e o número de horas trabalhadas no mês. Calcule e mostre o total do seu salário no referido mês.\n",
        "salaryperhour = float(input(\"Insira quanto você recebe de salário por hora: \"))\n",
        "hourperday = float(input(\"Insira quantas horas você trabalha por mês: \"))\n",
        "monthlysalary = salaryperhour * hourperday\n",
        "print(f\"Seu salário mensal é igual a {monthlysalary}.\")"
      ],
      "metadata": {
        "colab": {
          "base_uri": "https://localhost:8080/"
        },
        "id": "V_xEHLPg93Bb",
        "outputId": "640d1437-b913-4cf4-deef-5dc4e019261d"
      },
      "execution_count": null,
      "outputs": [
        {
          "output_type": "stream",
          "name": "stdout",
          "text": [
            "Insira quanto você recebe de salário por hora: 20\n",
            "Insira quantas horas você trabalha por mês: 120\n",
            "Seu salário mensal é igual a 2400.0.\n"
          ]
        }
      ]
    },
    {
      "cell_type": "code",
      "source": [
        "# Q9. Faça um CÓDIGO que peça um valor e mostre na tela se o valor é positivo ou negativo.\n",
        "realnumber = float(input(\"Insira um valor númerico: \"))\n",
        "if realnumber > 0:\n",
        "  print(\"O valor é positivo.\")\n",
        "elif realnumber < 0:\n",
        "  print(\"O valor é negativo.\")\n",
        "else:\n",
        "  print(\"O valor é igual a zero.\")"
      ],
      "metadata": {
        "colab": {
          "base_uri": "https://localhost:8080/"
        },
        "id": "nFXtwAPU97m2",
        "outputId": "21dd917a-af94-44f8-e178-29a10c3a30c5"
      },
      "execution_count": null,
      "outputs": [
        {
          "output_type": "stream",
          "name": "stdout",
          "text": [
            "Insira um valor númerico: 2\n",
            "O valor é positivo.\n"
          ]
        }
      ]
    },
    {
      "cell_type": "code",
      "source": [
        "# Q10. . Faça um CÓDIGO que verifique se uma letra digitada é \"F\" ou \"M\". Conforme a letra escrever: F - Feminino, M - Masculino, Sexo Inválido.\n",
        "character = input(\"Insira uma letra: \")\n",
        "if character == \"F\" or character == \"f\":\n",
        "  print(\"F - Feminino\")\n",
        "elif character == \"M\" or character == \"m\":\n",
        "  print(\"M - Masculino\")\n",
        "else:\n",
        "  print(\"Sexo Inválido\")"
      ],
      "metadata": {
        "colab": {
          "base_uri": "https://localhost:8080/"
        },
        "id": "HHu2LhrX-BBt",
        "outputId": "0bd288f0-000e-4f85-ff44-353a74117fb2"
      },
      "execution_count": null,
      "outputs": [
        {
          "output_type": "stream",
          "name": "stdout",
          "text": [
            "Insira uma letra: M\n",
            "M - Masculino\n"
          ]
        }
      ]
    }
  ]
}