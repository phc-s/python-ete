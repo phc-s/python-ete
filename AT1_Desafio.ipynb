{
  "nbformat": 4,
  "nbformat_minor": 0,
  "metadata": {
    "colab": {
      "provenance": [],
      "authorship_tag": "ABX9TyOUGgHK3NVXfhfZaZL1MUgD",
      "include_colab_link": true
    },
    "kernelspec": {
      "name": "python3",
      "display_name": "Python 3"
    },
    "language_info": {
      "name": "python"
    }
  },
  "cells": [
    {
      "cell_type": "markdown",
      "metadata": {
        "id": "view-in-github",
        "colab_type": "text"
      },
      "source": [
        "<a href=\"https://colab.research.google.com/github/phc-s/python-ete/blob/main/Python_EXPY.ipynb\" target=\"_parent\"><img src=\"https://colab.research.google.com/assets/colab-badge.svg\" alt=\"Open In Colab\"/></a>"
      ]
    },
    {
      "cell_type": "code",
      "execution_count": 19,
      "metadata": {
        "colab": {
          "base_uri": "https://localhost:8080/"
        },
        "id": "Noz4gU5zZoI2",
        "outputId": "a9bd1cf4-adbd-442e-8117-022616609d29"
      },
      "outputs": [
        {
          "output_type": "stream",
          "name": "stdout",
          "text": [
            "Leia o comentario desse CÓDIGO.\n"
          ]
        }
      ],
      "source": [
        "# Professor, boa tarde! eu realizei essa atividade conforme a atividade no Classroom pediu. Também, eu visualizei eu li o arquivo da aula 6 para aprender.\n",
        "# No entanto, a lista de atividades que está dentro do repositório, tem já as respostas lá, tu somente deseja que eu pratique e eu mostre aqui?\n",
        "# Pois acabei mudando o nome das questões e a maneira que o código se encontra escrito, para ficar original e mostrar ainda o mesmo resultado.\n",
        "# Uma dúvida, preciso fazer a de vetor IMC? eu enfim fiz pois estou interessado em trazer esse código de qualidade e aprender mais sobre python.\n",
        "# Qualquer erro ou mal entendido da atividade por minha parte que eu tiver feito, me avise, eu nao quero perder nota.\n",
        "\n",
        "# Obrigado pela atenção! segue a atividade abaixo:\n",
        "\n",
        "print(\"Leia o comentario desse CÓDIGO.\")\n"
      ]
    },
    {
      "cell_type": "code",
      "source": [
        "# Q1. Faça um CÓDIGO que exiba a mensagem \"Olá ETE Cicero Dias\" no console.\n",
        "message = \"Olá ETE Cicero Dias\"\n",
        "print(message)"
      ],
      "metadata": {
        "colab": {
          "base_uri": "https://localhost:8080/"
        },
        "id": "fIigK0j982dE",
        "outputId": "5cc8d0c1-f481-4b28-bf7f-c36e8e326813"
      },
      "execution_count": 2,
      "outputs": [
        {
          "output_type": "stream",
          "name": "stdout",
          "text": [
            "Olá ETE Cicero Dias\n"
          ]
        }
      ]
    },
    {
      "cell_type": "code",
      "source": [
        "# Q2. Faça um CÓDIGO que peça ao usuário um número e então exiba a mensagem \"O número informado foi [número]\"\n",
        "number = input(\"Insira um número: \")\n",
        "print(f\"o numero informado foi:\", number)"
      ],
      "metadata": {
        "colab": {
          "base_uri": "https://localhost:8080/"
        },
        "id": "Xi-PFqmY9Cl5",
        "outputId": "8e418c64-5b6a-45f4-b53c-97fe9db4df3e"
      },
      "execution_count": 4,
      "outputs": [
        {
          "output_type": "stream",
          "name": "stdout",
          "text": [
            "Insira um número: 7\n",
            "o numero informado foi: 7\n"
          ]
        }
      ]
    },
    {
      "cell_type": "code",
      "source": [
        "# Q3. Faça um CÓDIGO que peça pelo valor de 2 números e assim imprima o resultado da soma no console:\n",
        "number1 = float(input(f\"Insira o primeiro numero: \"))\n",
        "number2 = float(input(f\"Insira o segundo numero: \"))\n",
        "sum = number1 + number2\n",
        "print(\"A soma desses 2 numeros é igual a:\", sum)"
      ],
      "metadata": {
        "colab": {
          "base_uri": "https://localhost:8080/"
        },
        "id": "sVBx3wGn9JDm",
        "outputId": "edea3823-93d9-4322-ec0d-d376b05f2e79"
      },
      "execution_count": 5,
      "outputs": [
        {
          "output_type": "stream",
          "name": "stdout",
          "text": [
            "Insira o primeiro numero: 2\n",
            "Insira o segundo numero: 3\n",
            "A soma desses 2 numeros é igual a:  5.0\n"
          ]
        }
      ]
    },
    {
      "cell_type": "code",
      "source": [
        "7# Q4. Faça um CÓDIGO que peça por 4 notas bimestrais e imprima o resultado final no console:\n",
        "n1 = float(input(\"Insira a primeira nota: \"))\n",
        "n2 = float(input(\"Insira a segunda nota: \"))\n",
        "n3 = float(input(\"Insira a terceira nota: \"))\n",
        "n4 = float(input(\"Insira a quarta nota: \"))\n",
        "grade = (n1 + n2 + n3 + n4) / 4\n",
        "print(\"A média final é: \", grade)"
      ],
      "metadata": {
        "colab": {
          "base_uri": "https://localhost:8080/"
        },
        "id": "viiK7j8D9NNs",
        "outputId": "7cb8869d-b2c3-4d53-f414-e42906bc79ad"
      },
      "execution_count": 6,
      "outputs": [
        {
          "output_type": "stream",
          "name": "stdout",
          "text": [
            "Insira a primeira nota: 10\n",
            "Insira a segunda nota: 9\n",
            "Insira a terceira nota: 8\n",
            "Insira a quarta nota: 7\n",
            "A média final é:  8.5\n"
          ]
        }
      ]
    },
    {
      "cell_type": "code",
      "source": [
        "# Q5. Faça um CÓDIGO que converta metros para centimetros e mostre o resultado no console:\n",
        "meter = float(input(\"Insira um valor em metros: \"))\n",
        "centimeter = meter * 100\n",
        "print(\"O valor em centimetros é igual a: \", centimeter)"
      ],
      "metadata": {
        "colab": {
          "base_uri": "https://localhost:8080/"
        },
        "id": "HMNPoOLM9U3_",
        "outputId": "66f7a9a1-53b9-4a8a-d6b8-5e8fc86b4231"
      },
      "execution_count": 7,
      "outputs": [
        {
          "output_type": "stream",
          "name": "stdout",
          "text": [
            "Insira um valor em metros: 4\n",
            "O valor em centimetros é igual a:  400.0\n"
          ]
        }
      ]
    },
    {
      "cell_type": "code",
      "source": [
        "# Q6. Faça um CÓDIGO que peça pelo raio do círculo, e calcule a sua área e mostre a sua resposta (use centimetros como exemplo).\n",
        "import math\n",
        "\n",
        "radius = float(input(\"Insira o valor do raio:\"))\n",
        "area = math.pi * radius ** 2\n",
        "print(\"A área do circulo é igual a \", round(area,2), \"centimetros quadrado.\")"
      ],
      "metadata": {
        "colab": {
          "base_uri": "https://localhost:8080/"
        },
        "id": "frVfk_ss9W5A",
        "outputId": "e82a511a-ab84-4f27-b9fd-819f81372986"
      },
      "execution_count": 16,
      "outputs": [
        {
          "output_type": "stream",
          "name": "stdout",
          "text": [
            "Insira o valor do raio:3\n",
            "A área do circulo é igual a  28.27 centimetros quadrado.\n"
          ]
        }
      ]
    },
    {
      "cell_type": "code",
      "source": [
        "# Q7. Faça um CÓDIGO que peça o lado de um quadrado, depois imprima a área do quadrado e também o seu dobro.\n",
        "side = float(input(\"Insira o lado de um quadrado: \"))\n",
        "area = side ** 2\n",
        "double_area = area * 2\n",
        "print(\"A área do quadrado é igual a\", area, \"metros quadrado.\")\n",
        "print(\"O dobro da área do quadrado é igual a\", double_area, \"metros quadrado.\")"
      ],
      "metadata": {
        "colab": {
          "base_uri": "https://localhost:8080/"
        },
        "id": "DVuAZ6KP9xuE",
        "outputId": "698a5944-5f3f-4765-d08f-5f985f53a731"
      },
      "execution_count": 11,
      "outputs": [
        {
          "output_type": "stream",
          "name": "stdout",
          "text": [
            "Insira o lado de um quadrado: 9\n",
            "A área do quadrado é igual a 81.0 metros quadrado.\n",
            "O dobro da área do quadrado é igual a 162.0 metros quadrado.\n"
          ]
        }
      ]
    },
    {
      "cell_type": "code",
      "source": [
        "# Q8. Faça um CÓDIGO que pergunte você ganha por mês e o número de horas trabalhadas por mês, calcule mostre o resultado do total do salario ganho no mês.\n",
        "salaryperhour = float(input(\"Insira quanto você recebe de salário por hora:\"))\n",
        "hourperday = float(input(\"Insira quantas horas você trabalha por mês:\"))\n",
        "monthlysalary = salaryperhour * hourperday\n",
        "print(\"Seu salário mensal é igual a\", monthlysalary)"
      ],
      "metadata": {
        "colab": {
          "base_uri": "https://localhost:8080/"
        },
        "id": "V_xEHLPg93Bb",
        "outputId": "3c9857bb-8b2f-41d0-bb20-b1d08cd456c4"
      },
      "execution_count": 17,
      "outputs": [
        {
          "output_type": "stream",
          "name": "stdout",
          "text": [
            "Insira quanto você recebe de salário por hora:30\n",
            "Insira quantas horas você trabalha por mês:72\n",
            "Seu salário mensal é igual a 2160.0\n"
          ]
        }
      ]
    },
    {
      "cell_type": "code",
      "source": [
        "# Q9. Faça um CÓDIGO que pergunte o valor de um número, e depois imprima no console se o valor é positivo, negativo ou se for igual a 0.\n",
        "realnumber = float(input(\"Insira um valor númerico: \"))\n",
        "if realnumber > 0:\n",
        "  print(\"O valor é positivo\")\n",
        "elif realnumber < 0:\n",
        "  print(\"O valor é negativo\")\n",
        "else:\n",
        "  print(\"O valor é igual a zero\")"
      ],
      "metadata": {
        "colab": {
          "base_uri": "https://localhost:8080/"
        },
        "id": "nFXtwAPU97m2",
        "outputId": "e9bab4cd-95fd-4877-c3c2-d6889d698d08"
      },
      "execution_count": 15,
      "outputs": [
        {
          "output_type": "stream",
          "name": "stdout",
          "text": [
            "Insira um valor númerico: 0\n",
            "O valor é igual a zero\n"
          ]
        }
      ]
    },
    {
      "cell_type": "code",
      "source": [
        "# Q10. Faça um CÓDIGO que pergunte por um caractére, sendo que conforme a letra o resultado seja, F - Feminino, M - Masculino ou Inválido.\n",
        "character = input(\"Insira uma letra: \")\n",
        "if character == \"F\" or character == \"f\":\n",
        "  print(\"F - Feminino\")\n",
        "elif character == \"M\" or character == \"m\":\n",
        "  print(\"M - Masculino\")\n",
        "else:\n",
        "  print(\"Inválido\")"
      ],
      "metadata": {
        "colab": {
          "base_uri": "https://localhost:8080/"
        },
        "id": "HHu2LhrX-BBt",
        "outputId": "a77d98d3-7612-4548-c384-1d9123c7ecb0"
      },
      "execution_count": 18,
      "outputs": [
        {
          "output_type": "stream",
          "name": "stdout",
          "text": [
            "Insira uma letra: m\n",
            "M - Masculino\n"
          ]
        }
      ]
    }
  ]
}
