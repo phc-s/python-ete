{
  "nbformat": 4,
  "nbformat_minor": 0,
  "metadata": {
    "colab": {
      "provenance": []
    },
    "kernelspec": {
      "name": "python3",
      "display_name": "Python 3"
    },
    "language_info": {
      "name": "python"
    }
  },
  "cells": [
    {
      "cell_type": "code",
      "execution_count": 5,
      "metadata": {
        "colab": {
          "base_uri": "https://localhost:8080/"
        },
        "id": "TqaYseDCROO4",
        "outputId": "a7f3ae28-a8a6-4fc4-962c-32aa0887c673"
      },
      "outputs": [
        {
          "output_type": "stream",
          "name": "stdout",
          "text": [
            "5.99\n",
            "<class 'str'>\n"
          ]
        }
      ],
      "source": [
        "# Code in development...\n",
        "\n",
        "p = input()\n",
        "print(type(p))"
      ]
    }
  ]
}