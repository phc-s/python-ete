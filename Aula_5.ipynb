{
  "nbformat": 4,
  "nbformat_minor": 0,
  "metadata": {
    "colab": {
      "provenance": [],
      "authorship_tag": "ABX9TyO1MZEYyDblv/V+8sN+KozE"
    },
    "kernelspec": {
      "name": "python3",
      "display_name": "Python 3"
    },
    "language_info": {
      "name": "python"
    }
  },
  "cells": [
    {
      "cell_type": "code",
      "execution_count": 8,
      "metadata": {
        "colab": {
          "base_uri": "https://localhost:8080/"
        },
        "id": "TqaYseDCROO4",
        "outputId": "9d652e95-fdf3-42fe-a373-cb86f6f26407"
      },
      "outputs": [
        {
          "output_type": "stream",
          "name": "stdout",
          "text": [
            "Pedro\n",
            "<class 'str'>\n"
          ]
        }
      ],
      "source": [
        "# Code in development...\n",
        "\n",
        "p = input()\n",
        "print(type(p))"
      ]
    }
  ]
}