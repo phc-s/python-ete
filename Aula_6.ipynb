{
  "nbformat": 4,
  "nbformat_minor": 0,
  "metadata": {
    "colab": {
      "provenance": [],
      "authorship_tag": "ABX9TyOEfUJxB7DpKGqLT//kLZ4p",
      "include_colab_link": true
    },
    "kernelspec": {
      "name": "python3",
      "display_name": "Python 3"
    },
    "language_info": {
      "name": "python"
    }
  },
  "cells": [
    {
      "cell_type": "markdown",
      "metadata": {
        "id": "view-in-github",
        "colab_type": "text"
      },
      "source": [
        "<a href=\"https://colab.research.google.com/github/phc-s/python-ete/blob/main/Aula_6.ipynb\" target=\"_parent\"><img src=\"https://colab.research.google.com/assets/colab-badge.svg\" alt=\"Open In Colab\"/></a>"
      ]
    },
    {
      "cell_type": "code",
      "execution_count": null,
      "metadata": {
        "colab": {
          "base_uri": "https://localhost:8080/"
        },
        "id": "ng5VCNHlVxbB",
        "outputId": "b3ed7ab6-1dc4-4d86-8ea8-152594a4f018"
      },
      "outputs": [
        {
          "output_type": "stream",
          "name": "stdout",
          "text": [
            "Hello World\n",
            "<class 'str'>\n",
            "<class 'int'>\n",
            "<class 'float'>\n",
            "<class 'bool'>\n"
          ]
        }
      ],
      "source": [
        "# ETE CÍCERO DIAS\n",
        "# DOCENTE: CLOVES ROCHA\n",
        "# ESTUDANTE: PEDRO HENRIQUE COSTA SILVA\n",
        "# PNT - TIPOS PRIMITIVOS DE DADOS\n",
        "\n",
        "# a = string\n",
        "# b = int\n",
        "# c = float\n",
        "# d = boolean\n",
        "\n",
        "print(\"Hello World!\")\n",
        "\n",
        "a = \"A\"\n",
        "print(type(a))\n",
        "b = 6\n",
        "print(type(b))\n",
        "c = 9.9\n",
        "print(type(c))\n",
        "d = True\n",
        "print(type(d))"
      ]
    },
    {
      "cell_type": "code",
      "source": [
        "# Operadores Arimétricos - Python\n",
        "\n",
        "print(1 + 2)  # Adição\n",
        "print(10 - 2) # Subtração\n",
        "print(5 * 3)  # Multiplicação\n",
        "print(12 / 4) # Divisão\n",
        "print(13 // 4) # Divisão inteira\n",
        "print(3 ** 3)  # Potenciação\n",
        "print(13 % 4) # Resto de divisão\n",
        "\n",
        "# Exemplo abaixo:\n",
        "print(\"\\nExemplo de programa:\")\n",
        "e = 2 ** 4\n",
        "f = 5 // 2\n",
        "print(e - f)"
      ],
      "metadata": {
        "colab": {
          "base_uri": "https://localhost:8080/"
        },
        "id": "zbT8rCocaFCz",
        "outputId": "aa6cef45-ed8f-486b-88ab-75eee2d6cb7f"
      },
      "execution_count": null,
      "outputs": [
        {
          "output_type": "stream",
          "name": "stdout",
          "text": [
            "3\n",
            "8\n",
            "15\n",
            "3.0\n",
            "3\n",
            "27\n",
            "1\n",
            "\n",
            "Exemplo de programa:\n",
            "14\n"
          ]
        }
      ]
    },
    {
      "cell_type": "code",
      "source": [
        "# Operadores relacionais simples\n",
        "n1 = 2\n",
        "n2 = 8\n",
        "n3 = 10\n",
        "n4 = 7\n",
        "n1 = n3\n",
        "notas = (n1 + n2 + n3 + n4) / 4\n",
        "print(f\"Sua nota final: {notas}, parabéns!\")"
      ],
      "metadata": {
        "id": "tzmuzEXXoLjX",
        "outputId": "d2757e37-c6cb-4f8d-b230-6fd17d475c75",
        "colab": {
          "base_uri": "https://localhost:8080/"
        }
      },
      "execution_count": 2,
      "outputs": [
        {
          "output_type": "stream",
          "name": "stdout",
          "text": [
            "Sua nota final: 8.75, parabéns!\n"
          ]
        }
      ]
    },
    {
      "cell_type": "code",
      "source": [
        "# Operadores relacionais compostos\n",
        "\n",
        "# =  - Operador de atribuição\n",
        "# == - Operador de comparação (se valor for igual, verdadeiro)\n",
        "# != - Operador de comparação (se valor for diferente, verdadeiro)\n",
        "# >  - Operador de comparação (se valor da esquerda for maior, verdadeiro)\n",
        "# <  - Operador de comparação (se valor da esquerda for menor, verdadeiro)\n",
        "# >= - Operador de comparação (se valor da esquerda for igual ou maior, verdadeiro)\n",
        "# <= - Operador de comparação (se valor da esquerda for igual ou menor, verdadeiro)\n",
        "\n",
        "g = 10\n",
        "h = 5\n",
        "print(g == h)\n",
        "print(g != h)\n",
        "print(g > h)\n",
        "print(g > h)\n",
        "print(g < h)\n",
        "print(g >= h)\n",
        "print(g <= h)"
      ],
      "metadata": {
        "colab": {
          "base_uri": "https://localhost:8080/"
        },
        "id": "VPMnocW1Y4jk",
        "outputId": "a9772f1f-3713-443e-fbae-9dfe472b424c"
      },
      "execution_count": null,
      "outputs": [
        {
          "output_type": "stream",
          "name": "stdout",
          "text": [
            "False\n",
            "True\n",
            "True\n",
            "True\n",
            "False\n",
            "True\n",
            "False\n"
          ]
        }
      ]
    },
    {
      "cell_type": "code",
      "source": [
        "# Input com string\n",
        "name = input(\"Qual é o seu nome? \")\n",
        "print(f\"Seu nome é {name}.\")"
      ],
      "metadata": {
        "colab": {
          "base_uri": "https://localhost:8080/"
        },
        "id": "q0fvLG3Ii2tP",
        "outputId": "d2454e65-1c83-4cb8-f1d2-f66a9f8dc175"
      },
      "execution_count": 4,
      "outputs": [
        {
          "output_type": "stream",
          "name": "stdout",
          "text": [
            "Qual é o seu nome? Pedro\n",
            "Seu nome é Pedro.\n"
          ]
        }
      ]
    },
    {
      "cell_type": "code",
      "source": [
        "# Input com inteiro\n",
        "age = int(input(\"Insira sua idade (anos inteiros): \"))\n",
        "month = int(input(\"Insira sua idade (resto do meses):\"))\n",
        "if month < 0:\n",
        "  month = 0\n",
        "elif month > 11:\n",
        "  month = 11\n",
        "print(f\"Você tem {age} anos e {month} meses.\")\n",
        "print(type(age))"
      ],
      "metadata": {
        "colab": {
          "base_uri": "https://localhost:8080/"
        },
        "id": "j78gR2YNj_A0",
        "outputId": "f3005e5b-502f-4eaf-d0a8-6e81072de865"
      },
      "execution_count": 12,
      "outputs": [
        {
          "output_type": "stream",
          "name": "stdout",
          "text": [
            "Insira sua idade (anos inteiros): 19\n",
            "Insira sua idade (resto do meses):13\n",
            "Você tem 19 anos e 11 meses.\n",
            "<class 'int'>\n"
          ]
        }
      ]
    },
    {
      "cell_type": "code",
      "source": [
        "# Input com float\n",
        "weight = float(input(\"Insira seu peso: \"))\n",
        "print(f\"Você pesa {weight} quilos.\")\n",
        "print(type(weight))"
      ],
      "metadata": {
        "colab": {
          "base_uri": "https://localhost:8080/"
        },
        "id": "irzVSRSgkmFJ",
        "outputId": "1911820c-8aa4-4b90-d20c-a1dd33c70c6b"
      },
      "execution_count": 5,
      "outputs": [
        {
          "output_type": "stream",
          "name": "stdout",
          "text": [
            "Insira seu peso: 70\n",
            "Você pesa 70.0 quilos.\n",
            "<class 'float'>\n"
          ]
        }
      ]
    },
    {
      "cell_type": "code",
      "source": [
        "# Condicionais básicas\n",
        "number = int(input(\"Digite um número: \"))\n",
        "if number % 2 == 0:\n",
        "  print(f\"O número {number} é par!\")\n",
        "else:\n",
        "  print(f\"O número {number} é impar!\")"
      ],
      "metadata": {
        "id": "NuyQyzDqsodn",
        "outputId": "a9108d31-fd13-4bf7-d277-54c0a481e501",
        "colab": {
          "base_uri": "https://localhost:8080/"
        }
      },
      "execution_count": 16,
      "outputs": [
        {
          "output_type": "stream",
          "name": "stdout",
          "text": [
            "Digite um número: 10\n",
            "O número 10 é par!\n"
          ]
        }
      ]
    },
    {
      "cell_type": "code",
      "source": [
        "# Condicionais aninhadas\n",
        "number = int(input(\"Digite um número: \"))\n",
        "if number > 0:\n",
        "  print(f\"Esse número ({number}) é positivo.\")\n",
        "elif number == 0:\n",
        "  print(f\"Esse número ({number}) é neutro.\")\n",
        "else:\n",
        "  print(f\"Esse número ({number}) é negativo.\")"
      ],
      "metadata": {
        "id": "qTi1lrQguM35",
        "outputId": "0d13521d-d908-4896-9ecb-fdbdd92e2323",
        "colab": {
          "base_uri": "https://localhost:8080/"
        }
      },
      "execution_count": 24,
      "outputs": [
        {
          "output_type": "stream",
          "name": "stdout",
          "text": [
            "Digite um número: -100\n",
            "Esse número (-100) é negativo.\n"
          ]
        }
      ]
    },
    {
      "cell_type": "code",
      "source": [
        "# Operadores lógicos:\n",
        "age = int(input(\"Insira sua idade: \"))\n",
        "if age >= 18 and age <= 65:\n",
        "  print(\"O seu voto é obrigatório\")\n",
        "else:\n",
        "  print(\"O seu voto é opcional\")"
      ],
      "metadata": {
        "id": "ddcH2sTowJjI",
        "outputId": "3a200db7-e7b1-4f26-f542-6bf4220b269e",
        "colab": {
          "base_uri": "https://localhost:8080/"
        }
      },
      "execution_count": 31,
      "outputs": [
        {
          "output_type": "stream",
          "name": "stdout",
          "text": [
            "Insira sua idade: 66\n",
            "O seu voto é opcional\n"
          ]
        }
      ]
    },
    {
      "cell_type": "code",
      "source": [
        "print(\"1. Idoso\")\n",
        "print(\"2 - Gestante\")\n",
        "print(\"3 - Cadeirante\")\n",
        "print(\"4 - Nenhum destes\")\n",
        "answer = int(input(\"Você é? \"))\n",
        "if answer == 1 or answer == 2 or answer == 3:\n",
        "  print(\"Você tem direito a uma fila prioritária!\")\n",
        "else:\n",
        "  print(\"Você não tem direito a uma fila prioritária!\")"
      ],
      "metadata": {
        "id": "6XM7imb-xO-t",
        "outputId": "7d6ddcfd-4bca-4ede-ca38-755bc54ad37c",
        "colab": {
          "base_uri": "https://localhost:8080/"
        }
      },
      "execution_count": 36,
      "outputs": [
        {
          "output_type": "stream",
          "name": "stdout",
          "text": [
            "1. Idoso\n",
            "2 - Gestante\n",
            "3 - Cadeirante\n",
            "4 - Nenhum destes\n",
            "Você é? 4\n",
            "Você não tem direito a uma fila prioritária!\n"
          ]
        }
      ]
    }
  ]
}