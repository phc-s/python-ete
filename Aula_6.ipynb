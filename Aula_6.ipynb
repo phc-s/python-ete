{
  "nbformat": 4,
  "nbformat_minor": 0,
  "metadata": {
    "colab": {
      "provenance": [],
      "authorship_tag": "ABX9TyMxGQMQ2ayokWvnrvmUrUYL",
      "include_colab_link": true
    },
    "kernelspec": {
      "name": "python3",
      "display_name": "Python 3"
    },
    "language_info": {
      "name": "python"
    }
  },
  "cells": [
    {
      "cell_type": "markdown",
      "metadata": {
        "id": "view-in-github",
        "colab_type": "text"
      },
      "source": [
        "<a href=\"https://colab.research.google.com/github/phc-s/python-ete/blob/main/Aula_6.ipynb\" target=\"_parent\"><img src=\"https://colab.research.google.com/assets/colab-badge.svg\" alt=\"Open In Colab\"/></a>"
      ]
    },
    {
      "cell_type": "code",
      "execution_count": 8,
      "metadata": {
        "colab": {
          "base_uri": "https://localhost:8080/"
        },
        "id": "ng5VCNHlVxbB",
        "outputId": "b3ed7ab6-1dc4-4d86-8ea8-152594a4f018"
      },
      "outputs": [
        {
          "output_type": "stream",
          "name": "stdout",
          "text": [
            "Hello World\n",
            "<class 'str'>\n",
            "<class 'int'>\n",
            "<class 'float'>\n",
            "<class 'bool'>\n"
          ]
        }
      ],
      "source": [
        "# ETE CÍCERO DIAS\n",
        "# DOCENTE: CLOVES ROCHA\n",
        "# ESTUDANTE: PEDRO HENRIQUE COSTA SILVA\n",
        "# PNT - TIPOS PRIMITIVOS DE DADOS\n",
        "\n",
        "# a = string\n",
        "# b = int\n",
        "# c = float\n",
        "# d = boolean\n",
        "# e = double\n",
        "\n",
        "print(\"Hello World!\")\n",
        "\n",
        "a = \"A\"\n",
        "print(type(a))\n",
        "b = 6\n",
        "print(type(b))\n",
        "c = 9.9\n",
        "print(type(c))\n",
        "d = True\n",
        "print(type(d))"
      ]
    },
    {
      "cell_type": "code",
      "source": [
        "# Operadores Arimétricos - Python\n",
        "\n",
        "print(1 + 2)  # Adição\n",
        "print(10 - 2) # Subtração\n",
        "print(5 * 3)  # Multiplicação\n",
        "print(12 / 4) # Divisão\n",
        "print(13 // 4) # Divisão inteira\n",
        "print(3 ** 3)  # Potenciação\n",
        "print(13 % 4) # Resto de divisão\n",
        "\n",
        "# Exemplo abaixo:\n",
        "print(\"\\nExemplo de programa:\")\n",
        "e = 2 ** 4\n",
        "f = 5 // 2\n",
        "print(e - f)"
      ],
      "metadata": {
        "colab": {
          "base_uri": "https://localhost:8080/"
        },
        "id": "zbT8rCocaFCz",
        "outputId": "aa6cef45-ed8f-486b-88ab-75eee2d6cb7f"
      },
      "execution_count": 12,
      "outputs": [
        {
          "output_type": "stream",
          "name": "stdout",
          "text": [
            "3\n",
            "8\n",
            "15\n",
            "3.0\n",
            "3\n",
            "27\n",
            "1\n",
            "\n",
            "Exemplo de programa:\n",
            "14\n"
          ]
        }
      ]
    },
    {
      "cell_type": "code",
      "source": [
        "# Operadores relacionais compostos\n",
        "\n",
        "# =  - Operador de atribuição\n",
        "# == - Operador de comparação (se valor for igual, verdadeiro)\n",
        "# != - Operador de comparação (se valor for diferente, verdadeiro)\n",
        "# >  - Operador de comparação (se valor da esquerda for maior, verdadeiro)\n",
        "# <  - Operador de comparação (se valor da esquerda for menor, verdadeiro)\n",
        "# >= - Operador de comparação (se valor da esquerda for igual ou maior, verdadeiro)\n",
        "# <= - Operador de comparação (se valor da esquerda for igual ou menor, verdadeiro)\n",
        "\n",
        "g = 10\n",
        "h = 5\n",
        "print(g == h)\n",
        "print(g != h)\n",
        "print(g > h)\n",
        "print(g > h)\n",
        "print(g < h)\n",
        "print(g >= h)\n",
        "print(g <= h)"
      ],
      "metadata": {
        "colab": {
          "base_uri": "https://localhost:8080/"
        },
        "id": "VPMnocW1Y4jk",
        "outputId": "a9772f1f-3713-443e-fbae-9dfe472b424c"
      },
      "execution_count": 15,
      "outputs": [
        {
          "output_type": "stream",
          "name": "stdout",
          "text": [
            "False\n",
            "True\n",
            "True\n",
            "True\n",
            "False\n",
            "True\n",
            "False\n"
          ]
        }
      ]
    },
    {
      "cell_type": "code",
      "source": [
        "# Input com string - 1\n",
        "name = input(\"Qual o seu nome? \")\n",
        "print(f\"Seu nome é {name}.\")"
      ],
      "metadata": {
        "colab": {
          "base_uri": "https://localhost:8080/"
        },
        "id": "q0fvLG3Ii2tP",
        "outputId": "0e6a80d9-d1d9-4d0c-b38d-886459e64f4f"
      },
      "execution_count": 29,
      "outputs": [
        {
          "output_type": "stream",
          "name": "stdout",
          "text": [
            "Qual o seu nome? Pedro\n",
            "Seu nome é Pedro.\n"
          ]
        }
      ]
    },
    {
      "cell_type": "code",
      "source": [
        "# Input com float - 1\n",
        "age = float(input(\"Insira sua idade: \"))\n",
        "print(f\"Você tem {age} anos e\",\"meses.\")\n",
        "print(type(age))"
      ],
      "metadata": {
        "colab": {
          "base_uri": "https://localhost:8080/"
        },
        "id": "j78gR2YNj_A0",
        "outputId": "f5c3a203-6432-4bc0-afdb-b0d0cd6fa9f9"
      },
      "execution_count": 28,
      "outputs": [
        {
          "output_type": "stream",
          "name": "stdout",
          "text": [
            "Insira sua idade: 19.0\n",
            "Você tem 19.0 anos e meses.\n",
            "<class 'float'>\n"
          ]
        }
      ]
    },
    {
      "cell_type": "code",
      "source": [
        "from IPython.core.completer import ProvisionalCompleterWarning\n",
        "weight = float(input(\"Insira seu peso: \"))\n",
        "print(f\"Você pesa {weight} quilos.\")\n",
        "print(type(weight))"
      ],
      "metadata": {
        "colab": {
          "base_uri": "https://localhost:8080/"
        },
        "id": "irzVSRSgkmFJ",
        "outputId": "155fa0a3-e80f-4e95-9f11-f8f75823d13c"
      },
      "execution_count": 25,
      "outputs": [
        {
          "output_type": "stream",
          "name": "stdout",
          "text": [
            "Insira seu peso: 70\n",
            "Você pesa 70.0 quilos\n",
            "<class 'float'>\n"
          ]
        }
      ]
    }
  ]
}