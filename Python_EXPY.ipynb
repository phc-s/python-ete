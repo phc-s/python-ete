{
  "nbformat": 4,
  "nbformat_minor": 0,
  "metadata": {
    "colab": {
      "provenance": [],
      "authorship_tag": "ABX9TyPLZ/VQvUehC2Kiw9Dx1zLg",
      "include_colab_link": true
    },
    "kernelspec": {
      "name": "python3",
      "display_name": "Python 3"
    },
    "language_info": {
      "name": "python"
    }
  },
  "cells": [
    {
      "cell_type": "markdown",
      "metadata": {
        "id": "view-in-github",
        "colab_type": "text"
      },
      "source": [
        "<a href=\"https://colab.research.google.com/github/phc-s/python-ete/blob/main/Python_EXPY.ipynb\" target=\"_parent\"><img src=\"https://colab.research.google.com/assets/colab-badge.svg\" alt=\"Open In Colab\"/></a>"
      ]
    },
    {
      "cell_type": "code",
      "execution_count": 10,
      "metadata": {
        "colab": {
          "base_uri": "https://localhost:8080/"
        },
        "id": "Noz4gU5zZoI2",
        "outputId": "953d5281-7548-4e10-a202-831f075b6fed"
      },
      "outputs": [
        {
          "output_type": "stream",
          "name": "stdout",
          "text": [
            "Olá ETE Cicero Dias\n",
            "Insira um número:4\n",
            "o numero informado foi 4\n",
            "Insira o primeiro numero: 5\n",
            "Insira o segundo numero: 3\n",
            "A soma desses 2 numeros é igual a:  8.0\n",
            "Insira a primeira nota: 3\n",
            "Insira a segunda nota: 4\n",
            "Insira a terceira nota: 5\n",
            "Insira a quarta nota: 6\n",
            "A média final é:  4.5\n",
            "Insira um valor em metros: 4\n",
            "O valor em centimetros é igual a:  400.0\n",
            "Insira o valor do raio:3\n",
            "A área do circulo é igual a  28.27 metros quadrado\n",
            "Insira o lado de um quadrado:5\n",
            "A área do quadrado é igual a  25.0 metros quadrado\n",
            "O dobro da área do quadrado é igual a  50.0 metros quadrado\n",
            "Insira quanto você recebe de salário por hora:3\n",
            "Insira quantas horas você trabalha por mês:30\n",
            "Seu salário mensal é igual a 90.0\n",
            "Insira um valor númerico-10\n",
            "O valor é negativo\n",
            "Insira uma letra:m\n",
            "M - Masculino\n"
          ]
        }
      ],
      "source": [
        "# Professor, boa tarde! eu realizei essa atividade conforme a atividade no Classroom pediu. Também, eu visualizei eu li o arquivo da aula 6 para aprender.\n",
        "# No entanto, a lista de atividades que está dentro do repositório, tem já as respostas lá, tu somente deseja que eu pratique e eu mostre aqui?\n",
        "# Pois acabei mudando o nome das questões e a maneira que o código se encontra escrito, para ficar original e mostrar ainda o mesmo resultado.\n",
        "# Uma dúvida, preciso fazer a de vetor IMC? eu enfim fiz pois estou interessado em trazer esse código de qualidade e aprender mais sobre python.\n",
        "# Qualquer erro ou mal entendido da atividade por minha parte que eu tiver feito, me avise, eu nao quero perder nota.\n",
        "\n",
        "# Obrigado pela atenção! segue a atividade abaixo:\n",
        "\n",
        "\n",
        "# Q1. Faça um CÓDIGO que exiba a mensagem \"Olá ETE Cicero Dias\" no console.\n",
        "message = \"Olá ETE Cicero Dias\"\n",
        "print(message)\n",
        "\n",
        "# Q2. Faça um CÓDIGO que peça ao usuário um número e então exiba a mensagem \"O número informado foi [número]\"\n",
        "number = input(\"Insira um número:\")\n",
        "print(f\"o numero informado foi\", number)\n",
        "\n",
        "# Q3. Faça um CÓDIGO que peça pelo valor de 2 números e assim imprima o resultado da soma no console:\n",
        "number1 = float(input(f\"Insira o primeiro numero: \"))\n",
        "number2 = float(input(f\"Insira o segundo numero: \"))\n",
        "sum = number1 + number2\n",
        "print(\"A soma desses 2 numeros é igual a: \", sum)\n",
        "\n",
        "# Q4. Faça um CÓDIGO que peça por 4 notas bimestrais e imprima o resultado final no console:\n",
        "n1 = float(input(\"Insira a primeira nota: \"))\n",
        "n2 = float(input(\"Insira a segunda nota: \"))\n",
        "n3 = float(input(\"Insira a terceira nota: \"))\n",
        "n4 = float(input(\"Insira a quarta nota: \"))\n",
        "grade = (n1 + n2 + n3 + n4) / 4\n",
        "print(\"A média final é: \", grade)\n",
        "\n",
        "# Q5. Faça um CÓDIGO que converta metros para centimetros e mostre o resultado no console:\n",
        "meter = float(input(\"Insira um valor em metros: \"))\n",
        "centimeter = meter * 100\n",
        "print(\"O valor em centimetros é igual a: \", centimeter)\n",
        "\n",
        "# Q6. Faça um CÓDIGO que peça pelo raio do círculo, e calcule a área e mostre a sua resposta.\n",
        "import math\n",
        "\n",
        "radius = float(input(\"Insira o valor do raio:\"))\n",
        "area = math.pi * radius ** 2\n",
        "print(\"A área do circulo é igual a \", round(area,2))\n",
        "\n",
        "# Q7. Faça um CÓDIGO que peça o lado de um quadrado, depois imprima a área do quadrado e também o seu dobro.\n",
        "side = float(input(\"Insira o lado de um quadrado:\"))\n",
        "area = side ** 2\n",
        "double_area = area * 2\n",
        "print(\"A área do quadrado é igual a \", area, \"metros quadrado\")\n",
        "print(\"O dobro da área do quadrado é igual a \", double_area, \"metros quadrado\")\n",
        "\n",
        "# Q8. Faça um CÓDIGO que pergunte você ganha por mês e o número de horas trabalhadas por mês, calcule mostre o resultado do total do salario ganho no mês.\n",
        "salaryperhour = float(input(\"Insira quanto você recebe de salário por hora:\"))\n",
        "hourperday = float(input(\"Insira quantas horas você trabalha por mês:\"))\n",
        "monthlysalary = salaryperhour * hourperday\n",
        "print(\"Seu salário mensal é igual a\", monthlysalary)\n",
        "\n",
        "# Q9. Faça um CÓDIGO que pergunte o valor de um número, e depois imprima no console se o valor é positivo, negativo ou se for igual a 0.\n",
        "realnumber = float(input(\"Insira um valor númerico\"))\n",
        "if realnumber > 0:\n",
        "  print(\"O valor é positivo\")\n",
        "elif realnumber < 0:\n",
        "  print(\"O valor é negativo\")\n",
        "else:\n",
        "  print(\"O valor é igual a zero\")\n",
        "# Q10. Faça um CÓDIGO que pergunte por um caractére, sendo que conforme a letra o resultado seja, F - Feminino, M - Masculino ou Inválido.\n",
        "character = input(\"Insira uma letra:\")\n",
        "if character == \"F\" or character == \"f\":\n",
        "  print(\"F - Feminino\")\n",
        "elif character == \"M\" or character == \"m\":\n",
        "  print(\"M - Masculino\")\n",
        "else:\n",
        "  print(\"Inválido\")"
      ]
    }
  ]
}