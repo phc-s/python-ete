{
  "nbformat": 4,
  "nbformat_minor": 0,
  "metadata": {
    "colab": {
      "provenance": [],
      "authorship_tag": "ABX9TyOXwsWryJg/wcw4NtMiZ1Dc",
      "include_colab_link": true
    },
    "kernelspec": {
      "name": "python3",
      "display_name": "Python 3"
    },
    "language_info": {
      "name": "python"
    }
  },
  "cells": [
    {
      "cell_type": "markdown",
      "metadata": {
        "id": "view-in-github",
        "colab_type": "text"
      },
      "source": [
        "<a href=\"https://colab.research.google.com/github/phc-s/python-ete/blob/main/Objetos.ipynb\" target=\"_parent\"><img src=\"https://colab.research.google.com/assets/colab-badge.svg\" alt=\"Open In Colab\"/></a>"
      ]
    },
    {
      "cell_type": "code",
      "execution_count": null,
      "metadata": {
        "colab": {
          "base_uri": "https://localhost:8080/"
        },
        "id": "8TQmImRbMF0o",
        "outputId": "e2356744-4d37-475a-fa5e-8b8cd98dc90e"
      },
      "outputs": [
        {
          "output_type": "stream",
          "name": "stdout",
          "text": [
            "Insira as informações abaixo sobre seu veículo:\n",
            "Qual a placa do seu carro? (Ex. ABC12D3)\n",
            "DGH87E4\n",
            "Qual a marca do seu carro?\n",
            "Hyundai\n",
            "Qual o modelo do seu carro?\n",
            "HB20\n",
            "Qual o ano de modelo do seu carro?\n",
            "2020\n",
            "Quantas portas possui o seu carro?\n",
            "4\n",
            "Qual a quilometragem do seu carro? (1 = Mil Km)\n",
            "86\n",
            "\n",
            "Abaixo, confira todas as suas informações inseridas abaixo.\n",
            "O seu carro é um Hyundai HB20 2020, ligado a placa número DGH87E4, possui 86.0 mil km rodados e tem 4 portas.\n"
          ]
        }
      ],
      "source": [
        "# DOCENTE: Prof. MSc. Cloves\n",
        "# AULA X: Python Noções OO\n",
        "# Estudante: Pedro Henrique Costa Silva\n",
        "\n",
        "class Automobile:\n",
        "  def __init__(self):\n",
        "    self._plate = 'ABC12D3'\n",
        "    self._manufacturer = 'Fabricante'\n",
        "    self._model = 'Modelo'\n",
        "    self._year = 2023\n",
        "    self._door = 4\n",
        "    self._km = 0\n",
        "    self._equip = 'Equipamento de apoio'\n",
        "\n",
        "  def set_plate (self, n):\n",
        "    self._plate = n\n",
        "  def set_manufacturer (self, n):\n",
        "    self._manufacturer = n\n",
        "  def set_model (self, n):\n",
        "    self._model = n\n",
        "  def set_year (self, n):\n",
        "    self._year = n\n",
        "  def set_door (self, n):\n",
        "    self._door = n\n",
        "  def set_km (self, n):\n",
        "    self._km = n\n",
        "  def full_info (self):\n",
        "    return f\"O seu carro é um {self.set_manufacturer} {self.set_model} {self.set_year}, ligado a placa número {self.set_plate}, possui {self.set_km} mil km rodados e tem {self._door} portas.\"\n",
        "\n",
        "carro = Automobile()\n",
        "\n",
        "print('Insira as informações abaixo sobre seu veículo:')\n",
        "print('Qual a placa do seu carro? (Ex. ABC12D3)')\n",
        "carro.set_plate = input()\n",
        "print('Qual a marca do seu carro?')\n",
        "carro.set_manufacturer = input()\n",
        "print('Qual o modelo do seu carro?')\n",
        "carro.set_model = input()\n",
        "print('Qual o ano de modelo do seu carro?')\n",
        "carro.set_year = int(input())\n",
        "print('Quantas portas possui o seu carro?')\n",
        "carro.set_door = int(input())\n",
        "print('Qual a quilometragem do seu carro? (1 = Mil Km)')\n",
        "carro.set_km = float(input())\n",
        "print('\\nAbaixo, confira todas as suas informações inseridas abaixo.')\n",
        "print(carro.full_info())\n"
      ]
    },
    {
      "cell_type": "code",
      "source": [],
      "metadata": {
        "id": "ITHXznxqpL0k"
      },
      "execution_count": null,
      "outputs": []
    },
    {
      "cell_type": "code",
      "source": [
        "class Person:\n",
        "  def __init__ (self):\n",
        "    self._client_type = \"Indefinido\"\n",
        "    self._name = \"Nome\"\n",
        "    self._surname = \"Sobrenome\"\n",
        "    self._sex = \"Sexo\"\n",
        "    self._address = \"Endereço\"\n",
        "    self._email = \"Email\"\n",
        "\n",
        "  def set_client_type (self, n):\n",
        "    self._client_type = n\n",
        "  def set_name (self, n):\n",
        "    self._name = n\n",
        "  def set_surname (self, n):\n",
        "    self._surname = n\n",
        "  def set_sex (self, n):\n",
        "    self._sex = n\n",
        "  def set_address (self, n):\n",
        "    self._address = n\n",
        "  def presentation (self):\n",
        "    return f\"Meu nome é {self.set_name} {self.set_surname}, sou do sexo {self.set_sex} e moro em {self.set_address} e meu e-mail é {self.set_email}, sou {self.set_client_type}.\"\n",
        "\n",
        "user = Person()\n",
        "\n",
        "print(\"Informe seus dados básicos:\")\n",
        "print(\"Insira seu nome:\")\n",
        "user.set_name = input()\n",
        "print(\"Insira seu sobrenome:\")\n",
        "user.set_surname = input()\n",
        "print(\"Insira seu sexo:\")\n",
        "user.set_sex = input()\n",
        "print(\"Insira seu endereço:\")\n",
        "user.set_address = input()\n",
        "print(\"Insira seu email: \")\n",
        "user.set_email = input()\n",
        "print(\"Insira sua modalidade de uso (Motorista, Cliente, Misto):\")\n",
        "user.set_client_type = input()\n",
        "print(\"\\nConfira abaixo as respostas inseridas.\")\n",
        "print(user.presentation())\n",
        "\n"
      ],
      "metadata": {
        "colab": {
          "base_uri": "https://localhost:8080/"
        },
        "id": "08E6lGdHh7XN",
        "outputId": "be406128-63fb-46c8-dfbd-92b5955caffc"
      },
      "execution_count": 29,
      "outputs": [
        {
          "output_type": "stream",
          "name": "stdout",
          "text": [
            "Informe seus dados básicos:\n",
            "Insira seu nome:\n",
            "Pedro\n",
            "Insira seu sobrenome:\n",
            "Henrique\n",
            "Insira seu sexo:\n",
            "Masculino\n",
            "Insira seu endereço:\n",
            "Rua Fulano Sicrano\n",
            "Insira seu email: \n",
            "phcs@email.com\n",
            "Insira sua modalidade de uso (Motorista, Cliente, Misto):\n",
            "Motorista\n",
            "\n",
            "Confira abaixo as respostas inseridas.\n",
            "Meu nome é Pedro Henrique, sou do sexo Masculino e moro em Rua Fulano Sicrano e meu e-mail é phcs@email.com, sou Motorista.\n"
          ]
        }
      ]
    },
    {
      "cell_type": "code",
      "source": [
        "class Person:\n",
        "  def __init__ (self, client_type, name, surname, sex, address, email):\n",
        "    self.client_type = client_type\n",
        "    self.name = name\n",
        "    self.surname = surname\n",
        "    self.sex = sex\n",
        "    self.address = address\n",
        "    self.email = email\n",
        "  def presentation (self):\n",
        "    return f\"Meu nome é {self.name} {self.surname}, sou do sexo {self.sex} e moro em {self.address} e meu e-mail é {self.email}, sou {self.client_type}.\"\n",
        "\n",
        "\n",
        "\n",
        "class Registry:\n",
        "    def __init__(self):\n",
        "        self.Persons = []\n",
        "\n",
        "    def add_people(self, Person):\n",
        "        self.Persons.append(Person)\n",
        "\n",
        "    def list_people(self):\n",
        "        for Person in self.Persons:\n",
        "            print(Person.presentation())\n",
        "\n",
        "registry = Registry()\n",
        "\n",
        "Person1 = Person(\"Motorista\", \"Pedro\", \"Henrique\", \"Masculino\", \"Avenida Vianova 100\", \"phcs@email.com\")\n",
        "Person2 = Person(\"Cliente\", \"Claudia\", \"Ferreira\", \"Feminino\", \"Rua Quintal de Janeiro\", \"clsilva@email.com\")\n",
        "\n",
        "registry.add_people(Person1)\n",
        "registry.add_people(Person2)\n",
        "\n",
        "registry.list_people()"
      ],
      "metadata": {
        "colab": {
          "base_uri": "https://localhost:8080/"
        },
        "id": "G4ErJvB-1jzC",
        "outputId": "a661a4b7-c749-4cd3-f657-fdad41d201bb"
      },
      "execution_count": 46,
      "outputs": [
        {
          "output_type": "stream",
          "name": "stdout",
          "text": [
            "Meu nome é Pedro Henrique, sou do sexo Masculino e moro em Avenida Vianova 100 e meu e-mail é phcs@email.com, sou Motorista.\n",
            "Meu nome é Claudia Ferreira, sou do sexo Feminino e moro em Rua Quintal de Janeiro e meu e-mail é clsilva@email.com, sou Cliente.\n"
          ]
        }
      ]
    },
    {
      "cell_type": "code",
      "source": [
        "class Equipamento:\n",
        "  def __init__(self):\n",
        "    self.quantity = \"Quantidade\"\n",
        "    self.equip = \"Equipamento\"\n",
        "    self.use_type = \"Tipo de uso\"\n",
        "  def set_Quantity (self, n):\n",
        "    self.quantity = n\n",
        "  def set_Equip (self, n):\n",
        "    self.equip = n\n",
        "  def set_Use_type (self, n):\n",
        "    self.use_type = n\n",
        "  def demonstrate (self):\n",
        "    return f\"Esse motorista possui {self.set_Quantity} equipamentos.\"\n",
        "  def utility (self):\n",
        "    return f\"Esse motorista possui {self.set_Equip} que ajuda a {self.set_Use_type}.\"\n",
        "\n",
        "equip = Equipamento()\n",
        "\n",
        "print(\"Aqui serve como um campo para preencher quantos equipamentos tu possui, e seu tipo de uso (Recomendado para apoio de deficientes fisicos)\")\n",
        "print(\"Defina quantos equipamentos tu possui:\")\n",
        "equip.set_Quantity = input()\n",
        "print(\"Insira o nome de um ou mais equipamento de apoio:\")\n",
        "equip.set_Equip = input()\n",
        "print(\"Insira a utilidade desse(s) equipamento(s)\")\n",
        "equip.set_Use_type = input()\n",
        "print(equip.demonstrate())\n",
        "print(equip.utility())\n",
        "\n"
      ],
      "metadata": {
        "colab": {
          "base_uri": "https://localhost:8080/"
        },
        "id": "FK1swVAz-mU_",
        "outputId": "a967165d-871f-4f18-c68e-ca4c69a45c01"
      },
      "execution_count": 55,
      "outputs": [
        {
          "output_type": "stream",
          "name": "stdout",
          "text": [
            "Aqui serve como um campo para preencher quantos equipamentos tu possui, e seu tipo de uso (Recomendado para apoio de deficientes fisicos)\n",
            "Defina quantos equipamentos tu possui:\n",
            "2\n",
            "Insira o nome de um ou mais equipamento de apoio:\n",
            "Rampa e Apoiador\n",
            "Insira a utilidade desse(s) equipamento(s)\n",
            "apoiar um cadeirante a acessar o carro e ter uma viagem de conforto\n",
            "Esse motorista possui 2 equipamentos.\n",
            "Esse motorista possui Rampa e Apoiador que ajuda a apoiar um cadeirante a acessar o carro e ter uma viagem de conforto.\n"
          ]
        }
      ]
    },
    {
      "cell_type": "code",
      "source": [
        "class Payment:\n",
        "  def __init__ (self):\n",
        "    self.pix = \"Chave do Pix\"\n",
        "    self.cc = \"Cartão de Crédito\"\n",
        "    self.client_type = \"Tipo de cliente\"\n",
        "    self.buytype = \"Tipo de compra\"\n",
        "  def set_Pix (self, n):\n",
        "    self.pix = n\n",
        "  def set_cc (self, n):\n",
        "    self.cc = n\n",
        "  def set_buytype (self, n):\n",
        "    self.buytype = n\n",
        "  def set_client_type (self, n):\n",
        "    self.client_type = n\n",
        "  def info(self):\n",
        "    return f\"Sendo {self.set_client_type}, eu prefiro pagamento por {self.set_buytype}.\"\n",
        "\n",
        "user = Payment()\n",
        "\n",
        "print(\"Insira sua modalidade de uso (Motorista, Cliente, Misto):\")\n",
        "user.set_client_type = input()\n",
        "print(\"Qual modalidade deseja usar de transação (Digite `PIX` ou Cartão de Crédito 'CC')\")\n",
        "user.set_buytype = input()\n",
        "if (user.set_buytype == \"PIX\"):\n",
        "  print(\"Qual a chave do PiX?\")\n",
        "  user.set_Pix = input()\n",
        "  user.set_buytype = \"Pix\"\n",
        "  print(user.info())\n",
        "elif (user.set_buytype == \"CC\"):\n",
        "  print(\"Qual a número do Cartão?\")\n",
        "  user.set_CC = input()\n",
        "  user.set_buytype = \"Cartão de Crédito\"\n",
        "  print(user.info())\n",
        "else:\n",
        "  print(\"Valor incorreto.\")\n",
        "\n",
        "# Codigo de Seguranca e Data de Exp. ausente, por enquanto.\n",
        "\n",
        "\n"
      ],
      "metadata": {
        "colab": {
          "base_uri": "https://localhost:8080/"
        },
        "id": "1Ndenmadb000",
        "outputId": "cfc43fa3-062c-4f47-cb2c-e56f1c4d5eb9"
      },
      "execution_count": 70,
      "outputs": [
        {
          "output_type": "stream",
          "name": "stdout",
          "text": [
            "Insira sua modalidade de uso (Motorista, Cliente, Misto):\n",
            "Motorista\n",
            "Qual modalidade deseja usar de transação (Digite `PIX` ou Cartão de Crédito 'CC')\n",
            "PIX\n",
            "Qual a chave do PiX?\n",
            "phcs@email.com\n",
            "Sendo Motorista, eu prefiro pagamento por Pix.\n"
          ]
        }
      ]
    }
  ]
}