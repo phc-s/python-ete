{
  "nbformat": 4,
  "nbformat_minor": 0,
  "metadata": {
    "colab": {
      "provenance": [],
      "authorship_tag": "ABX9TyM1EfMIdgwv8VwrgePv3wDI",
      "include_colab_link": true
    },
    "kernelspec": {
      "name": "python3",
      "display_name": "Python 3"
    },
    "language_info": {
      "name": "python"
    }
  },
  "cells": [
    {
      "cell_type": "markdown",
      "metadata": {
        "id": "view-in-github",
        "colab_type": "text"
      },
      "source": [
        "<a href=\"https://colab.research.google.com/github/phc-s/python-ete/blob/main/no%C3%A7%C3%B5es_OO.ipynb\" target=\"_parent\"><img src=\"https://colab.research.google.com/assets/colab-badge.svg\" alt=\"Open In Colab\"/></a>"
      ]
    },
    {
      "cell_type": "code",
      "execution_count": 23,
      "metadata": {
        "colab": {
          "base_uri": "https://localhost:8080/"
        },
        "id": "M6dLPx3oAYi1",
        "outputId": "bfe8c708-d92c-4eca-b0a2-42ac7d6dc799"
      },
      "outputs": [
        {
          "output_type": "stream",
          "name": "stdout",
          "text": [
            "Horsepower: 67hp.\n",
            "Model: Stingray Hybrid X.\n",
            "Year: 2017.\n",
            "Wheel Quantity: 4.\n"
          ]
        }
      ],
      "source": [
        "# Aula - 7 // Noções de Orientação a Objetos (Noções OO)\n",
        "\n",
        "class Car:\n",
        "\n",
        "# Suzuki Wagon R - é um modelo de um carro.\n",
        "# Horsepower é a potência em forças cavalo do carro.\n",
        "# Model é a versão do carro.\n",
        "# Year é o ano do carro.\n",
        "# Wheel é a roda do carro.\n",
        "\n",
        "  def __init__ (self):\n",
        "    self._horsepower = 50\n",
        "    self._model = \"Base\"\n",
        "    self._year = 2023\n",
        "    self._wheel = 0\n",
        "  def set_wheel (self, n):\n",
        "    self._wheel = n\n",
        "  def set_horsepower (self, n):\n",
        "    self._horsepower = n\n",
        "  def set_model (self, n):\n",
        "    self._model = n\n",
        "  def set_year (self, n):\n",
        "    self._year = n\n",
        "\n",
        "suzuki_wagonR = Car()\n",
        "suzuki_wagonR.set_horsepower(67)\n",
        "suzuki_wagonR.set_model(\"Stingray Hybrid X\")\n",
        "suzuki_wagonR.set_year(2017)\n",
        "suzuki_wagonR.set_wheel(4)\n",
        "\n",
        "print(f\"Horsepower: {suzuki_wagonR._horsepower}hp.\")\n",
        "print(f\"Model: {suzuki_wagonR._model}.\")\n",
        "print(f\"Year: {suzuki_wagonR._year}.\")\n",
        "print(f\"Wheel Quantity: {suzuki_wagonR._wheel}.\")\n"
      ]
    }
  ]
}